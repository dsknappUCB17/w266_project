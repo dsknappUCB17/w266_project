{
 "cells": [
  {
   "cell_type": "markdown",
   "id": "727d83da",
   "metadata": {},
   "source": [
    "## Prep"
   ]
  },
  {
   "cell_type": "code",
   "execution_count": 1,
   "id": "7c3f518b",
   "metadata": {},
   "outputs": [],
   "source": [
    "import sys\n",
    "sys.version\n",
    "import requests\n",
    "import pandas as pd\n",
    "from bs4 import BeautifulSoup"
   ]
  },
  {
   "cell_type": "markdown",
   "id": "015b2231",
   "metadata": {},
   "source": [
    "## Scrape one crossword"
   ]
  },
  {
   "cell_type": "code",
   "execution_count": 12,
   "id": "e93200eb",
   "metadata": {},
   "outputs": [],
   "source": [
    "test_url = 'https://www.xwordinfo.com/Crossword?date=9/23/2021'\n",
    "r = requests.get(test_url)\n",
    "src = r.content"
   ]
  },
  {
   "cell_type": "code",
   "execution_count": 13,
   "id": "9e8f58cd",
   "metadata": {},
   "outputs": [],
   "source": [
    "soup = BeautifulSoup(src, 'html.parser')"
   ]
  },
  {
   "cell_type": "code",
   "execution_count": 14,
   "id": "183e92c9",
   "metadata": {},
   "outputs": [
    {
     "name": "stdout",
     "output_type": "stream",
     "text": [
      "1\n",
      "Proto-smartphones, in brief :PDAS\n",
      "5\n",
      "It may be flipped in anger, with \"the\" :BIRD\n",
      "9\n",
      "Companion, in Arabic :SAHIB\n",
      "14\n",
      "Performance traditionally accompanied by the ipu heke (double gourd drum) :HULADANCE\n",
      "16\n",
      "Protein-building acid type :AMINO\n",
      "17\n",
      "Marley of \"Marley & Me,\" for one :YELLOWLAB\n",
      "18\n",
      "Unbending :RIGID\n",
      "19\n",
      "Insomniacs have them :SLEEPLESSNIGHTS\n",
      "21\n",
      "A pelican gulper is a type of one :EEL\n",
      "22\n",
      "Parts of essential oils :ESTERS\n",
      "26\n",
      "It's a wrap :OBI\n",
      "27\n",
      "Didn't win or lose :DREW\n",
      "29\n",
      "Eye ailments :STYES\n",
      "31\n",
      "Evian, par exemple :EAU\n",
      "33\n",
      "Food item that may be candied :YAM\n",
      "36\n",
      "Blue Angels, e.g. :AEROBATS\n",
      "38\n",
      "Failing spectacularly :GOINGUPINFLAMES\n",
      "42\n",
      "Colonies construct them :ANTNESTS\n",
      "45\n",
      "Anderson Cooper, to Gloria Vanderbilt :SON\n",
      "46\n",
      "Network operated by the U.S. Space Force :GPS\n",
      "47\n",
      "Part of a bar line :STOOL\n",
      "49\n",
      "Get red in the face? :CHAP\n",
      "53\n",
      "What starts with janeiro, in Rio :ANO\n",
      "55\n",
      "Like mortgagors :INDEBT\n",
      "58\n",
      "Actress Hagen with three Tonys :UTA\n",
      "59\n",
      "Members of a wartime skywatching corps :GROUNDOBSERVERS\n",
      "63\n",
      "Frothy order :LATTE\n",
      "64\n",
      "Symbols often accompanying the phrase \"Legalize it\" :POTLEAVES\n",
      "66\n",
      "Seriously fancy :ADORE\n",
      "67\n",
      "Redacts, as sensitive information (suggested by three of this puzzle's answers) :BLACKSOUT\n",
      "68\n",
      "Feinted on the ice :DEKED\n",
      "69\n",
      "Adam and Eve's third child :SETH\n",
      "70\n",
      "Standard Oil offshoot :ESSO\n",
      "1\n",
      "Gym :PHYSED\n",
      "2\n",
      "Burr, famously :DUELER\n",
      "3\n",
      "Genetic variant :ALLELE\n",
      "4\n",
      "Something that's no good unless it's closed :SALE\n",
      "5\n",
      "Blubbers :BAWLS\n",
      "6\n",
      "Some safe harbors :INLETS\n",
      "7\n",
      "Electronics company that founded NBC :RCA\n",
      "8\n",
      "Type of socialite officially discontinued in the U.K. in 1958 :DEB\n",
      "9\n",
      "It's a wrap :SARI\n",
      "10\n",
      "Mexican ally :AMIGO\n",
      "11\n",
      "Flashy car feature? :HIGHBEAM\n",
      "12\n",
      "New member :INITIATE\n",
      "13\n",
      "Gym figures, for short :BODS\n",
      "15\n",
      "Lowdown :DOPE\n",
      "23\n",
      "Flight tracker info :ETA\n",
      "24\n",
      "Alternative to white :RYE\n",
      "25\n",
      "Peons :SERFS\n",
      "28\n",
      "Casino next to the Venetian in Vegas :WYNN\n",
      "30\n",
      "2018 sci-fi prequel :SOLO\n",
      "32\n",
      "___ Enterprise :USS\n",
      "34\n",
      "Range on a game box :AGES\n",
      "35\n",
      "\"Are you giving me no choice?\" :MUSTI\n",
      "37\n",
      "Like Supreme Court hearings, with \"en\" :BANC\n",
      "38\n",
      "Shut up :GAG\n",
      "39\n",
      "For all to see :ONPARADE\n",
      "40\n",
      "Response to rule-breaking :ITSNOTOK\n",
      "43\n",
      "Whole lot :TON\n",
      "44\n",
      "Cover some ground? :SOD\n",
      "48\n",
      "Titular vampire in Anne Rice novels :LESTAT\n",
      "50\n",
      "Parts of a Spanish omelet :HUEVOS\n",
      "51\n",
      "Father-in-law of Helen of Troy :ATREUS\n",
      "52\n",
      "Target with a toss :PASSTO\n",
      "54\n",
      "Off-the-wall :OUTRE\n",
      "56\n",
      "Something that might come up after a big meal? :BELCH\n",
      "57\n",
      "Enterprise voyage :TREK\n",
      "59\n",
      "Hefty rival :GLAD\n",
      "60\n",
      "Have to have :NEED\n",
      "62\n",
      "Container whose name is pronounced with either a long \"a\" or an \"ah\" :VASE\n",
      "64\n",
      "Network supported by \"Viewers Like You\" :PBS\n",
      "65\n",
      "___ Miss of the N.C.A.A. :OLE\n"
     ]
    }
   ],
   "source": [
    "# clues\n",
    "clues = []\n",
    "answers = []\n",
    "for div in soup.select('.numclue div'):\n",
    "    div_text = div.get_text(strip=True)\n",
    "    print(div_text)\n",
    "    if ':' in div_text:\n",
    "        k,v = div_text.rsplit(':', 1)\n",
    "        clues.append(k)\n",
    "        answers.append(v)"
   ]
  },
  {
   "cell_type": "code",
   "execution_count": 5,
   "id": "1bdcd519",
   "metadata": {},
   "outputs": [
    {
     "data": {
      "text/html": [
       "<div>\n",
       "<style scoped>\n",
       "    .dataframe tbody tr th:only-of-type {\n",
       "        vertical-align: middle;\n",
       "    }\n",
       "\n",
       "    .dataframe tbody tr th {\n",
       "        vertical-align: top;\n",
       "    }\n",
       "\n",
       "    .dataframe thead th {\n",
       "        text-align: right;\n",
       "    }\n",
       "</style>\n",
       "<table border=\"1\" class=\"dataframe\">\n",
       "  <thead>\n",
       "    <tr style=\"text-align: right;\">\n",
       "      <th></th>\n",
       "      <th>CLUE</th>\n",
       "      <th>ANSWER</th>\n",
       "    </tr>\n",
       "  </thead>\n",
       "  <tbody>\n",
       "    <tr>\n",
       "      <th>0</th>\n",
       "      <td>Proto-smartphones, in brief</td>\n",
       "      <td>PDAS</td>\n",
       "    </tr>\n",
       "    <tr>\n",
       "      <th>1</th>\n",
       "      <td>It may be flipped in anger, with \"the\"</td>\n",
       "      <td>BIRD</td>\n",
       "    </tr>\n",
       "    <tr>\n",
       "      <th>2</th>\n",
       "      <td>Companion, in Arabic</td>\n",
       "      <td>SAHIB</td>\n",
       "    </tr>\n",
       "    <tr>\n",
       "      <th>3</th>\n",
       "      <td>Performance traditionally accompanied by the i...</td>\n",
       "      <td>HULADANCE</td>\n",
       "    </tr>\n",
       "    <tr>\n",
       "      <th>4</th>\n",
       "      <td>Protein-building acid type</td>\n",
       "      <td>AMINO</td>\n",
       "    </tr>\n",
       "  </tbody>\n",
       "</table>\n",
       "</div>"
      ],
      "text/plain": [
       "                                                CLUE     ANSWER\n",
       "0                       Proto-smartphones, in brief        PDAS\n",
       "1            It may be flipped in anger, with \"the\"        BIRD\n",
       "2                              Companion, in Arabic       SAHIB\n",
       "3  Performance traditionally accompanied by the i...  HULADANCE\n",
       "4                        Protein-building acid type       AMINO"
      ]
     },
     "execution_count": 5,
     "metadata": {},
     "output_type": "execute_result"
    }
   ],
   "source": [
    "crossword_df = pd.DataFrame(\n",
    "    {'CLUE': clues,\n",
    "     'ANSWER': answers\n",
    "    })\n",
    "\n",
    "crossword_df.head()"
   ]
  },
  {
   "cell_type": "markdown",
   "id": "5559f3f6",
   "metadata": {},
   "source": [
    "## Loop through multiple dates"
   ]
  },
  {
   "cell_type": "code",
   "execution_count": 6,
   "id": "2f2edb12",
   "metadata": {},
   "outputs": [],
   "source": [
    "# cword_dates = pd.date_range(\"11/21/1993\", periods=365*27+260, freq=\"D\")\n",
    "cword_dates = pd.date_range(\"11/21/1993\", \"9/26/2021\", freq=\"D\")\n",
    "cword_dates = cword_dates.strftime('%m/%d/%Y')"
   ]
  },
  {
   "cell_type": "code",
   "execution_count": 7,
   "id": "d6a4ef8d",
   "metadata": {},
   "outputs": [
    {
     "data": {
      "text/plain": [
       "Index(['11/21/1993', '11/22/1993', '11/23/1993', '11/24/1993', '11/25/1993',\n",
       "       '11/26/1993', '11/27/1993', '11/28/1993', '11/29/1993', '11/30/1993',\n",
       "       ...\n",
       "       '09/17/2021', '09/18/2021', '09/19/2021', '09/20/2021', '09/21/2021',\n",
       "       '09/22/2021', '09/23/2021', '09/24/2021', '09/25/2021', '09/26/2021'],\n",
       "      dtype='object', length=10172)"
      ]
     },
     "execution_count": 7,
     "metadata": {},
     "output_type": "execute_result"
    }
   ],
   "source": [
    "cword_dates"
   ]
  },
  {
   "cell_type": "code",
   "execution_count": 8,
   "id": "c7b0ce97",
   "metadata": {},
   "outputs": [
    {
     "data": {
      "text/html": [
       "<div>\n",
       "<style scoped>\n",
       "    .dataframe tbody tr th:only-of-type {\n",
       "        vertical-align: middle;\n",
       "    }\n",
       "\n",
       "    .dataframe tbody tr th {\n",
       "        vertical-align: top;\n",
       "    }\n",
       "\n",
       "    .dataframe thead th {\n",
       "        text-align: right;\n",
       "    }\n",
       "</style>\n",
       "<table border=\"1\" class=\"dataframe\">\n",
       "  <thead>\n",
       "    <tr style=\"text-align: right;\">\n",
       "      <th></th>\n",
       "      <th>CLUE</th>\n",
       "      <th>ANSWER</th>\n",
       "    </tr>\n",
       "  </thead>\n",
       "  <tbody>\n",
       "    <tr>\n",
       "      <th>0</th>\n",
       "      <td>Site of the Shandog Peninsula</td>\n",
       "      <td>YELLOWSEA</td>\n",
       "    </tr>\n",
       "    <tr>\n",
       "      <th>1</th>\n",
       "      <td>\"Closer to Fine\" singers</td>\n",
       "      <td>INDIGOGIRLS</td>\n",
       "    </tr>\n",
       "    <tr>\n",
       "      <th>2</th>\n",
       "      <td>Capital near Lake Tuz</td>\n",
       "      <td>ANKARA</td>\n",
       "    </tr>\n",
       "    <tr>\n",
       "      <th>3</th>\n",
       "      <td>MasterCard rival</td>\n",
       "      <td>OPTIMA</td>\n",
       "    </tr>\n",
       "    <tr>\n",
       "      <th>4</th>\n",
       "      <td>Petrarch works</td>\n",
       "      <td>SONNETS</td>\n",
       "    </tr>\n",
       "  </tbody>\n",
       "</table>\n",
       "</div>"
      ],
      "text/plain": [
       "                             CLUE       ANSWER\n",
       "0  Site of the Shandog Peninsula     YELLOWSEA\n",
       "1       \"Closer to Fine\" singers   INDIGOGIRLS\n",
       "2          Capital near Lake Tuz        ANKARA\n",
       "3               MasterCard rival        OPTIMA\n",
       "4                 Petrarch works       SONNETS"
      ]
     },
     "execution_count": 8,
     "metadata": {},
     "output_type": "execute_result"
    }
   ],
   "source": [
    "base_url = 'https://www.xwordinfo.com/Crossword?date='\n",
    "\n",
    "clues = []\n",
    "answers = []\n",
    "for date in cword_dates:\n",
    "    cw_url = base_url + date\n",
    "    r = requests.get(cw_url)\n",
    "    src = r.content\n",
    "    soup = BeautifulSoup(src, 'html.parser')\n",
    "    for div in soup.select('.numclue div'):\n",
    "        div_text = div.get_text(strip=True)\n",
    "        if ':' in div_text:\n",
    "#             print(div_text)\n",
    "            k,v = div_text.rsplit(':', 1)\n",
    "            clues.append(k)\n",
    "            answers.append(v)\n",
    "\n",
    "crossword_df = pd.DataFrame(\n",
    "    {'CLUE': clues,\n",
    "     'ANSWER': answers\n",
    "    })\n",
    "\n",
    "crossword_df.head()"
   ]
  },
  {
   "cell_type": "code",
   "execution_count": 9,
   "id": "7d3533a9",
   "metadata": {},
   "outputs": [],
   "source": [
    "crossword_df.to_csv('../crossword_data.csv')"
   ]
  },
  {
   "cell_type": "code",
   "execution_count": 10,
   "id": "7f2e435a",
   "metadata": {},
   "outputs": [
    {
     "data": {
      "text/plain": [
       "849852"
      ]
     },
     "execution_count": 10,
     "metadata": {},
     "output_type": "execute_result"
    }
   ],
   "source": [
    "len(crossword_df)"
   ]
  },
  {
   "cell_type": "code",
   "execution_count": 11,
   "id": "f37d4545",
   "metadata": {},
   "outputs": [
    {
     "data": {
      "text/html": [
       "<div>\n",
       "<style scoped>\n",
       "    .dataframe tbody tr th:only-of-type {\n",
       "        vertical-align: middle;\n",
       "    }\n",
       "\n",
       "    .dataframe tbody tr th {\n",
       "        vertical-align: top;\n",
       "    }\n",
       "\n",
       "    .dataframe thead th {\n",
       "        text-align: right;\n",
       "    }\n",
       "</style>\n",
       "<table border=\"1\" class=\"dataframe\">\n",
       "  <thead>\n",
       "    <tr style=\"text-align: right;\">\n",
       "      <th></th>\n",
       "      <th>CLUE</th>\n",
       "      <th>ANSWER</th>\n",
       "    </tr>\n",
       "  </thead>\n",
       "  <tbody>\n",
       "    <tr>\n",
       "      <th>849847</th>\n",
       "      <td>Japanese soup ingredient</td>\n",
       "      <td>MISO</td>\n",
       "    </tr>\n",
       "    <tr>\n",
       "      <th>849848</th>\n",
       "      <td>Children's author Blyton</td>\n",
       "      <td>ENID</td>\n",
       "    </tr>\n",
       "    <tr>\n",
       "      <th>849849</th>\n",
       "      <td>Bird with a reduplicative name</td>\n",
       "      <td>NENE</td>\n",
       "    </tr>\n",
       "    <tr>\n",
       "      <th>849850</th>\n",
       "      <td>JFK alternative</td>\n",
       "      <td>LGA</td>\n",
       "    </tr>\n",
       "    <tr>\n",
       "      <th>849851</th>\n",
       "      <td>Dallas and Houston are in it, in brief</td>\n",
       "      <td>NBA</td>\n",
       "    </tr>\n",
       "  </tbody>\n",
       "</table>\n",
       "</div>"
      ],
      "text/plain": [
       "                                           CLUE ANSWER\n",
       "849847                Japanese soup ingredient    MISO\n",
       "849848                Children's author Blyton    ENID\n",
       "849849          Bird with a reduplicative name    NENE\n",
       "849850                         JFK alternative     LGA\n",
       "849851  Dallas and Houston are in it, in brief     NBA"
      ]
     },
     "execution_count": 11,
     "metadata": {},
     "output_type": "execute_result"
    }
   ],
   "source": [
    "crossword_df.tail()"
   ]
  }
 ],
 "metadata": {
  "kernelspec": {
   "display_name": "Python 3",
   "language": "python",
   "name": "python3"
  },
  "language_info": {
   "codemirror_mode": {
    "name": "ipython",
    "version": 3
   },
   "file_extension": ".py",
   "mimetype": "text/x-python",
   "name": "python",
   "nbconvert_exporter": "python",
   "pygments_lexer": "ipython3",
   "version": "3.8.8"
  }
 },
 "nbformat": 4,
 "nbformat_minor": 5
}
